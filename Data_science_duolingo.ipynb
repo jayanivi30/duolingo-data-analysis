{
 "cells": [
  {
   "cell_type": "code",
   "execution_count": null,
   "id": "import-libraries",
   "metadata": {},
   "outputs": [],
   "source": [
    "import pandas as pd\n",
    "import numpy as np\n"
   ]
  },
  {
   "cell_type": "markdown",
   "metadata": {},
   "source": [
    "Load the Dataset"
   ]
  },
  {
   "cell_type": "code",
   "execution_count": null,
   "id": "load-dataset",
   "metadata": {},
   "outputs": [],
   "source": [
    "\n",
    "df = pd.read_csv('duo_story_data.csv')\n",
    "df.head()"
   ]
  },
  {
   "cell_type": "markdown",
   "metadata": {},
   "source": [
    "Generating numerical values using NumPy"
   ]
  },
  {
   "cell_type": "code",
   "execution_count": null,
   "id": "generate-numerical-values",
   "metadata": {},
   "outputs": [],
   "source": [
    "\n",
    "random_scores = np.random.randint(1, 11, size=7)  # 7 random integers between 1 and 10\n",
    "mean_score = np.mean(df['score'])\n",
    "median_score = np.median(df['score'])\n",
    "std_dev_score = np.std(df['score'])\n",
    "max_score = np.max(df['score'])\n",
    "min_score = np.min(df['score'])\n",
    "sum_score = np.sum(df['score'])\n",
    "\n",
    "# Display numerical values\n",
    "random_scores, mean_score, median_score, std_dev_score, max_score, min_score, sum_score"
   ]
  },
  {
   "cell_type": "markdown",
   "metadata": {},
   "source": [
    "Data manipulations using Pandas"
   ]
  },
  {
   "cell_type": "code",
   "execution_count": null,
   "id": "data-manipulations",
   "metadata": {},
   "outputs": [],
   "source": [
    "\n",
    "df_copy = df.copy()  # 1. Creating a copy of the dataset\n",
    "df_copy['score_squared'] = df_copy['score'] ** 2  # 2. Creating a new column (score squared)\n",
    "df_sorted = df_copy.sort_values(by='score', ascending=False)  # 3. Sorting by score\n",
    "df_filtered = df_copy[df_copy['score'] > 5]  # 4. Filtering rows with score > 5\n",
    "df_grouped = df_copy.groupby('mode')['score'].mean()  # 5. Grouping and calculating mean score\n",
    "df_copy['time'] = pd.to_datetime(df_copy['time'])  # 6. Converting time column to datetime\n",
    "df_copy['year'] = df_copy['time'].dt.year  # 7. Extracting the year from the datetime column\n",
    "df_copy.dropna(subset=['mode'], inplace=True)  # 8. Removing rows with missing mode values\n",
    "df_copy.rename(columns={'score': 'story_score'}, inplace=True)  # 9. Renaming the score column\n",
    "\n",
    "# Display manipulated dataset\n",
    "df_copy.head()"
   ]
  }
 ],
 "metadata": {
  "kernelspec": {
   "display_name": "Python 3",
   "language": "python",
   "name": "python3"
  },
  "language_info": {
   "codemirror_mode": {
    "name": "ipython",
    "version": 3
   },
   "file_extension": ".py",
   "mimetype": "text/x-python",
   "name": "python",
   "nbconvert_exporter": "python",
   "pygments_lexer": "ipython3",
   "version": "3.8.10"
  }
 },
 "nbformat": 4,
 "nbformat_minor": 4
}
